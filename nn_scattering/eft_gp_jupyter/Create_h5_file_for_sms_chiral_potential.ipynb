{
 "cells": [
  {
   "cell_type": "markdown",
   "id": "236cebed",
   "metadata": {},
   "source": [
    "# Purpose\n",
    "The purpose of this notebook is to separate the potential operators by taking advantage of the linearity of the SMS chiral semi-regulated momentum space potential in the coupling constants for all partial waves.\n",
    "\n",
    "And then to load the individual matrix elements in an HDF5 file for external use."
   ]
  },
  {
   "cell_type": "markdown",
   "id": "b7d148ad",
   "metadata": {},
   "source": [
    "# Notebook Setup\n",
    "\n",
    "## Library import\n",
    "We import all the required Python libraries"
   ]
  },
  {
   "cell_type": "code",
   "execution_count": 1,
   "id": "45f20826",
   "metadata": {},
   "outputs": [],
   "source": [
    "%load_ext autoreload\n",
    "%autoreload 2\n",
    "%matplotlib inline\n",
    "\n",
    "import h5py\n",
    "import numpy as np\n",
    "import pandas as pd"
   ]
  },
  {
   "cell_type": "markdown",
   "id": "c196499b",
   "metadata": {},
   "source": [
    "## Local library import\n",
    "We import all the required local libraries"
   ]
  },
  {
   "cell_type": "code",
   "execution_count": 6,
   "id": "bc092fbc",
   "metadata": {},
   "outputs": [],
   "source": [
    "from constants import *\n",
    "\n",
    "from mesh import BuildMesh\n",
    "from sms_chiral_potential import SMSChiralPot"
   ]
  },
  {
   "cell_type": "markdown",
   "id": "c4b03143",
   "metadata": {},
   "source": [
    "# Parameters"
   ]
  },
  {
   "cell_type": "code",
   "execution_count": 7,
   "id": "826b1fc2",
   "metadata": {},
   "outputs": [],
   "source": [
    "### MESH INPUT PARAMETERS ###\n",
    "ki = 0\n",
    "cut_reg1 = 4 # Mesh cutoff of first region\n",
    "cut_reg2 = 8 # Mesh cutoff of second region\n",
    "kf = 100\n",
    "\n",
    "pts_reg1 = 40 # Total points in first region\n",
    "pts_reg2 = 20 # Total points in second region\n",
    "pts_reg3 = 20 # Total points in third region\n",
    "Ntot = pts_reg1 + pts_reg2 + pts_reg3\n",
    "\n",
    "### POTENTIAL INPUT PARAMETERS ###\n",
    "force = 'np' # Choice of interaction\n",
    "ostat = 5 # Order of EFT\n",
    "cutnum = 2 # Choice of cutoff\n",
    "jmax = 20 # Momentum"
   ]
  },
  {
   "cell_type": "markdown",
   "id": "80113c23",
   "metadata": {},
   "source": [
    "# Creating h5 file"
   ]
  },
  {
   "cell_type": "code",
   "execution_count": 8,
   "id": "f23ecfb9",
   "metadata": {},
   "outputs": [],
   "source": [
    "# Nodes/weights\n",
    "mesh_nodes = [ki, cut_reg1, cut_reg2, kf]\n",
    "pts_per_region = [pts_reg1, pts_reg2, pts_reg3]\n",
    "mesh = BuildMesh(mesh_nodes, pts_per_region)\n",
    "nodes, weights = mesh.nodes, mesh.weights"
   ]
  },
  {
   "cell_type": "code",
   "execution_count": 9,
   "id": "4283012b",
   "metadata": {},
   "outputs": [],
   "source": [
    "# open a new h5 file for writing\n",
    "# initialize the h5 file\n",
    "\n",
    "file_name = './potential_SMS_n4lo_plus_' + force + \\\n",
    "            '_Lambda450MeV_jmax-'+ str(jmax) + '_' + str(ki) \\\n",
    "            + str(cut_reg1) + str(cut_reg2) + '_' + str(pts_reg1) \\\n",
    "            + str(pts_reg2) + str(pts_reg3) + '.h5'\n",
    "hf_sms = h5py.File(file_name, 'w')"
   ]
  },
  {
   "cell_type": "code",
   "execution_count": 10,
   "id": "2a28dac6",
   "metadata": {},
   "outputs": [
    {
     "name": "stdout",
     "output_type": "stream",
     "text": [
      "shape of V0_sing (uncoupled potentials):  (42, 80, 80)\n",
      "shape of V0_coup (coupled potentials):  (20, 160, 160)\n",
      "shape of Vi_sing (uncoupled potentials):  (42, 80, 80, 30)\n",
      "shape of Vi_coup (coupled potentials):  (20, 160, 160, 30)\n"
     ]
    },
    {
     "data": {
      "text/plain": [
       "<HDF5 dataset \"quadratic\": shape (30,), type \"|b1\">"
      ]
     },
     "execution_count": 10,
     "metadata": {},
     "output_type": "execute_result"
    }
   ],
   "source": [
    "# hard-wired numbers temporarily --> do better!\n",
    "num_lecs = 30    # includes through F-wave contacts\n",
    "num_sing_pws = 42\n",
    "num_coup_pws = 20\n",
    "\n",
    "num_k = len(nodes)\n",
    "# V0 is the part of the potential independent of the (non-\\pi N) LECs\n",
    "V0_sing = np.zeros((num_sing_pws, num_k, num_k))\n",
    "hf_sms.create_dataset('V0_sing', data=V0_sing)\n",
    "print('shape of V0_sing (uncoupled potentials): ',V0_sing.shape)\n",
    "\n",
    "V0_coup = np.zeros((num_coup_pws, 2*num_k, 2*num_k))\n",
    "hf_sms.create_dataset('V0_coup', data=V0_coup)\n",
    "print('shape of V0_coup (coupled potentials): ', V0_coup.shape)\n",
    "\n",
    "# Each Vi corresponds to one of the (non-\\pi N) LECs\n",
    "Vi_sing = np.zeros((num_sing_pws, num_k, num_k, num_lecs))\n",
    "hf_sms.create_dataset('Vi_sing', data=Vi_sing)\n",
    "print('shape of Vi_sing (uncoupled potentials): ',Vi_sing.shape)\n",
    "\n",
    "Vi_coup = np.zeros((num_coup_pws, 2*num_k, 2*num_k, num_lecs))\n",
    "hf_sms.create_dataset('Vi_coup', data=Vi_coup)\n",
    "print('shape of Vi_coup (coupled potentials): ', Vi_coup.shape)\n",
    "\n",
    "hf_sms.create_dataset('k', data=nodes)\n",
    "hf_sms.create_dataset('dk', data=weights)\n",
    "\n",
    "quadratic = np.zeros(num_lecs, dtype=bool)\n",
    "hf_sms.create_dataset('quadratic', data=quadratic)"
   ]
  },
  {
   "cell_type": "code",
   "execution_count": 11,
   "id": "00403e08",
   "metadata": {},
   "outputs": [
    {
     "data": {
      "text/plain": [
       "<HDF5 dataset \"lec names\": shape (30,), type \"|O\">"
      ]
     },
     "execution_count": 11,
     "metadata": {},
     "output_type": "execute_result"
    }
   ],
   "source": [
    "dt = h5py.special_dtype(vlen=str) # data type for the LEC name strings\n",
    "\n",
    "LEC_names = np.array(['LO 1S0 pp', 'LO 1S0 np', 'LO 1S0 nn', 'LO 3S1 np', \n",
    "                      'NLO 1S0', 'NLO 3P0', 'NLO 1P1', 'NLO 3P1', 'NLO 3S1', \n",
    "                      'NLO 3S1-3D1', 'NLO 3P2', 'N3LO t1S0', 'N3LO 1S0', \n",
    "                      'N3LO 3P0', 'N3LO 1P1', 'N3LO 3P1', 'N3LO t3S1', \n",
    "                      'N3LO 3S1', 'N3LO 3D1', 'N3LO t3S1-3D1', 'N3LO 3S1-3D1', \n",
    "                      'N3LO 1D2', 'N3LO 3D2', 'N3LO 3P2', 'N3LO 3P2-3F2', \n",
    "                      'N3LO 3D3', 'N4LO+ 3F2', 'N4LO+ 1F3', 'N4LO+ 3F3', 'N4LO+ 3F4'], \n",
    "                      dtype=dt)\n",
    "\n",
    "hf_sms.create_dataset('lec names', data=LEC_names)  # add to the .h5 file"
   ]
  },
  {
   "cell_type": "code",
   "execution_count": 12,
   "id": "ded20945",
   "metadata": {},
   "outputs": [
    {
     "data": {
      "text/plain": [
       "<HDF5 dataset \"waves_sing\": shape (42, 4), type \"<i4\">"
      ]
     },
     "execution_count": 12,
     "metadata": {},
     "output_type": "execute_result"
    }
   ],
   "source": [
    "single = np.array([[0, 0, 0, 1], [1, 1, 0, 1], [1, 0, 1, 0], [1, 1, 1, 1], \n",
    "                    [2, 0, 2, 1], [2, 1, 2, 0], [3, 0, 3, 0], [3, 1, 3, 1], \n",
    "                    [4, 0, 4, 1], [4, 1, 4, 0], [5, 0, 5, 0], [5, 1, 5, 1], \n",
    "                    [6, 0, 6, 1], [6, 1, 6, 0], [7, 0, 7, 0], [7, 1, 7, 1], \n",
    "                    [8, 0, 8, 1], [8, 1, 8, 0], [9, 0, 9, 0], [9, 1, 9, 1], \n",
    "                    [10, 0, 10, 1], [10, 1, 10, 0], [11, 0, 11, 0], [11, 1, 11, 1], \n",
    "                    [12, 0, 12, 1], [12, 1, 12, 0], [13, 0, 13, 0], [13, 1, 13, 1], \n",
    "                    [14, 0, 14, 1], [14, 1, 14, 0], [15, 0, 15, 0], [15, 1, 15, 1], \n",
    "                    [16, 0, 16, 1], [16, 1, 16, 0], [17, 0, 17, 0], [17, 1, 17, 1], \n",
    "                    [18, 0, 18, 1], [18, 1, 18, 0], [19, 0, 19, 0], [19, 1, 19, 1], \n",
    "                    [20, 0, 20, 1], [20, 1, 20, 0]])\n",
    "\n",
    "coupled = np.array([[[0, 1, 1, 0], [2, 1, 1, 0]], [[1, 1, 2, 1], [3, 1, 2, 1]], \n",
    "                    [[2, 1, 3, 0], [4, 1, 3, 0]], [[3, 1, 4, 1], [5, 1, 4, 1]], \n",
    "                    [[4, 1, 5, 0], [6, 1, 5, 0]], [[5, 1, 6, 1], [7, 1, 6, 1]], \n",
    "                    [[6, 1, 7, 0], [8, 1, 7, 0]], [[7, 1, 8, 1], [9, 1, 8, 1]], \n",
    "                    [[8, 1, 9, 0], [10, 1, 9, 0]], [[9, 1, 10, 1], [11, 1, 10, 1]], \n",
    "                    [[10, 1, 11, 0], [12, 1, 11, 0]], [[11, 1, 12, 1], [13, 1, 12, 1]], \n",
    "                    [[12, 1, 13, 0], [14, 1, 13, 0]], [[13, 1, 14, 1], [15, 1, 14, 1]], \n",
    "                    [[14, 1, 15, 0], [16, 1, 15, 0]], [[15, 1, 16, 1], [17, 1, 16, 1]], \n",
    "                    [[16, 1, 17, 0], [18, 1, 17, 0]], [[17, 1, 18, 1], [19, 1, 18, 1]], \n",
    "                    [[18, 1, 19, 0], [20, 1, 19, 0]], [[19, 1, 20, 1], [21, 1, 20, 1]]])\n",
    "\n",
    "hf_sms.create_dataset('waves_coup', data=coupled)  # add to the .h5 file\n",
    "hf_sms.create_dataset('waves_sing', data=single)  # add to the .h5 file"
   ]
  },
  {
   "cell_type": "code",
   "execution_count": 13,
   "id": "9d106fbf",
   "metadata": {},
   "outputs": [
    {
     "data": {
      "text/plain": [
       "['V0_coup',\n",
       " 'V0_sing',\n",
       " 'Vi_coup',\n",
       " 'Vi_sing',\n",
       " 'dk',\n",
       " 'k',\n",
       " 'lec names',\n",
       " 'quadratic',\n",
       " 'waves_coup',\n",
       " 'waves_sing']"
      ]
     },
     "execution_count": 13,
     "metadata": {},
     "output_type": "execute_result"
    }
   ],
   "source": [
    "list(hf_sms.keys())  # check the keys"
   ]
  },
  {
   "cell_type": "code",
   "execution_count": 14,
   "id": "62672bb5",
   "metadata": {
    "scrolled": true
   },
   "outputs": [
    {
     "name": "stdout",
     "output_type": "stream",
     "text": [
      "Semilocal momentum-space chiral NN potential at N4LO [Q^5] + N5LO [Q^6]\n",
      "Contacts in 3F2, 1F3, 3F3, 3F4\n",
      "Cutoff value: lambda = 450 MeV\n",
      "\n",
      "\n",
      "jmom = 0\n",
      "jmom = 1\n",
      "jmom = 2\n",
      "jmom = 3\n",
      "jmom = 4\n",
      "jmom = 5\n",
      "jmom = 6\n",
      "jmom = 7\n",
      "jmom = 8\n",
      "jmom = 9\n",
      "jmom = 10\n",
      "jmom = 11\n",
      "jmom = 12\n",
      "jmom = 13\n",
      "jmom = 14\n",
      "jmom = 15\n",
      "jmom = 16\n",
      "jmom = 17\n",
      "jmom = 18\n",
      "jmom = 19\n",
      "jmom = 20\n",
      "Wall time: 18min 31s\n"
     ]
    }
   ],
   "source": [
    "%%time\n",
    "my_sms = SMSChiralPot(ostat, force, cutnum)\n",
    "cc_pred = my_sms.get_LECs()\n",
    "nodes_GeV, weights_GeV = hbar_c_GeV*nodes, hbar_c_GeV*weights\n",
    "spectral, contacts = my_sms.get_smschiral(nodes_GeV, weights_GeV, jmax)"
   ]
  },
  {
   "cell_type": "code",
   "execution_count": 15,
   "id": "8c7a33f7",
   "metadata": {},
   "outputs": [],
   "source": [
    "# Fill up the V0 entries\n",
    "\n",
    "for j_index in range(0, jmax + 1):\n",
    "    pot_spec = (V_factor_RME / (0.5*np.pi)) * spectral[j_index,:,:,:]\n",
    "    hf_sms['V0_sing'][2*j_index,:,:] = pot_spec[0,:,:]\n",
    "        \n",
    "    if j_index == 0:\n",
    "        hf_sms['V0_sing'][2*j_index+1,:,:] = pot_spec[5,:,:]\n",
    "        \n",
    "    elif j_index >= 1:\n",
    "        hf_sms['V0_sing'][2*j_index+1,:,:] = pot_spec[1,:,:]\n",
    "\n",
    "        hf_sms['V0_coup'][j_index-1,:num_k,:num_k] = pot_spec[2,:,:]\n",
    "        hf_sms['V0_coup'][j_index-1,:num_k,num_k:2*num_k] = pot_spec[3,:,:]\n",
    "        hf_sms['V0_coup'][j_index-1,num_k:2*num_k,:num_k] = pot_spec[4,:,:]\n",
    "        hf_sms['V0_coup'][j_index-1,num_k:2*num_k,num_k:2*num_k] = pot_spec[5,:,:]\n"
   ]
  },
  {
   "cell_type": "code",
   "execution_count": 16,
   "id": "d13cdcc3",
   "metadata": {},
   "outputs": [],
   "source": [
    "# Fill up the Vi entries\n",
    "\n",
    "for j_index in range(jmax + 1):\n",
    "    pot_op = (V_factor_RME / (0.5*np.pi)) * contacts[j_index]\n",
    "\n",
    "    if (j_index == 0):\n",
    "        hf_sms['Vi_sing'][2*j_index,:num_k,:num_k,1] = pot_op[0] # 'CT_1S0'\n",
    "        hf_sms['Vi_sing'][2*j_index,:num_k,:num_k,4] = pot_op[1] # 'C_1S0'\n",
    "        hf_sms['Vi_sing'][2*j_index,:num_k,:num_k,12] = pot_op[2] # 'D_1S0'        \n",
    "        hf_sms['Vi_sing'][2*j_index+1,:num_k,:num_k,5] = pot_op[3] # 'C_3P0'\n",
    "        hf_sms['Vi_sing'][2*j_index+1,:num_k,:num_k,13] = pot_op[4] # 'D_3P0'\n",
    "\n",
    "    elif (j_index == 1):    \n",
    "        hf_sms['Vi_sing'][2*j_index,:,:,6] = pot_op[0] # 'C_1P1'\n",
    "        hf_sms['Vi_sing'][2*j_index,:,:,14] = pot_op[1] # 'D_1P1'\n",
    "        hf_sms['Vi_sing'][2*j_index+1,:,:,7] = pot_op[2] # 'C_3P1'        \n",
    "        hf_sms['Vi_sing'][2*j_index+1,:,:,15] = pot_op[3] # 'D_3P1'\n",
    "        \n",
    "        hf_sms['Vi_coup'][j_index-1,:num_k,:num_k,3] = pot_op[4] # 'CT_3S1'\n",
    "        hf_sms['Vi_coup'][j_index-1,:num_k,:num_k,8] = pot_op[5] # 'C_3S1'\n",
    "        hf_sms['Vi_coup'][j_index-1,:num_k,:num_k,17] = pot_op[6] # 'D_3S1'\n",
    "        hf_sms['Vi_coup'][j_index-1,:num_k,num_k:2*num_k,9] = pot_op[7] # 'C_e1'\n",
    "        hf_sms['Vi_coup'][j_index-1,:num_k,num_k:2*num_k,20] = pot_op[8] # 'D_e1'\n",
    "        hf_sms['Vi_coup'][j_index-1,num_k:2*num_k,:num_k,9] = pot_op[9] # 'C_e1'\n",
    "        hf_sms['Vi_coup'][j_index-1,num_k:2*num_k,:num_k,20] = pot_op[10] # 'D_e1'\n",
    "        hf_sms['Vi_coup'][j_index-1,num_k:2*num_k,num_k:2*num_k,18] = pot_op[11] # 'D_3D1'\n",
    "\n",
    "    elif (j_index == 2):       \n",
    "        hf_sms['Vi_sing'][2*j_index,:,:,21] = pot_op[0] # 'D_1D2'\n",
    "        hf_sms['Vi_sing'][2*j_index+1,:,:,22] = pot_op[1] # 'D_3D2'\n",
    "        \n",
    "        hf_sms['Vi_coup'][j_index-1,:num_k,:num_k,10] = pot_op[2] # 'C_3P2'\n",
    "        hf_sms['Vi_coup'][j_index-1,:num_k,:num_k,23] = pot_op[3] # 'D_3P2'\n",
    "        hf_sms['Vi_coup'][j_index-1,:num_k,num_k:2*num_k,24] = pot_op[4] # 'D_e2'\n",
    "        hf_sms['Vi_coup'][j_index-1,num_k:2*num_k,:num_k,24] = pot_op[5] # 'D_e2'\n",
    "        hf_sms['Vi_coup'][j_index-1,num_k:2*num_k,num_k:2*num_k,26] = pot_op[6] # 'E_3F2'\n",
    "\n",
    "    elif (j_index == 3):        \n",
    "        hf_sms['Vi_sing'][2*j_index,:,:,27] = pot_op[0] # 'E_1F3'\n",
    "        hf_sms['Vi_sing'][2*j_index+1,:,:,28] = pot_op[1] # 'E_3F3'\n",
    "        hf_sms['Vi_coup'][j_index-1,:num_k,:num_k,25] = pot_op[2] # 'D_3D3'\n",
    "\n",
    "    elif (j_index == 4):\n",
    "        hf_sms['Vi_coup'][j_index-1,:num_k,:num_k,29] = pot_op[0] # 'E_3F4'\n",
    "            \n"
   ]
  },
  {
   "cell_type": "code",
   "execution_count": 17,
   "id": "69bf5144",
   "metadata": {},
   "outputs": [],
   "source": [
    "hf_sms.close()"
   ]
  },
  {
   "cell_type": "code",
   "execution_count": null,
   "id": "c6b6eff9",
   "metadata": {},
   "outputs": [],
   "source": []
  }
 ],
 "metadata": {
  "kernelspec": {
   "display_name": "Python 3 (ipykernel)",
   "language": "python",
   "name": "python3"
  },
  "language_info": {
   "codemirror_mode": {
    "name": "ipython",
    "version": 3
   },
   "file_extension": ".py",
   "mimetype": "text/x-python",
   "name": "python",
   "nbconvert_exporter": "python",
   "pygments_lexer": "ipython3",
   "version": "3.8.11"
  },
  "toc": {
   "base_numbering": 1,
   "nav_menu": {},
   "number_sections": true,
   "sideBar": true,
   "skip_h1_title": false,
   "title_cell": "Table of Contents",
   "title_sidebar": "Contents",
   "toc_cell": false,
   "toc_position": {},
   "toc_section_display": true,
   "toc_window_display": false
  }
 },
 "nbformat": 4,
 "nbformat_minor": 5
}
